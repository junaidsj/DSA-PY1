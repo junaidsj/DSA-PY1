{
 "cells": [
  {
   "cell_type": "code",
   "execution_count": 6,
   "id": "f04d40ef-472c-49a1-9757-764aa0a47ffb",
   "metadata": {},
   "outputs": [
    {
     "name": "stdout",
     "output_type": "stream",
     "text": [
      "0\n",
      "1\n",
      "2\n",
      "3\n",
      "4\n",
      "5\n",
      "6\n",
      "7\n",
      "8\n",
      "9\n",
      "0\n",
      "1\n",
      "2\n",
      "3\n",
      "4\n",
      "5\n",
      "6\n",
      "7\n",
      "8\n",
      "9\n"
     ]
    }
   ],
   "source": [
    "def print_items(n):\n",
    "    for i in range(n):\n",
    "        print(i)\n",
    "    for j in range(n):\n",
    "        print(j)\n",
    "print_items(10)\n",
    "            "
   ]
  },
  {
   "cell_type": "code",
   "execution_count": 8,
   "id": "27c70144-35f3-46a1-95f8-bab924861d04",
   "metadata": {},
   "outputs": [
    {
     "name": "stdout",
     "output_type": "stream",
     "text": [
      "0 0\n",
      "0 1\n",
      "0 2\n",
      "0 3\n",
      "0 4\n",
      "0 5\n",
      "0 6\n",
      "0 7\n",
      "0 8\n",
      "0 9\n",
      "1 0\n",
      "1 1\n",
      "1 2\n",
      "1 3\n",
      "1 4\n",
      "1 5\n",
      "1 6\n",
      "1 7\n",
      "1 8\n",
      "1 9\n",
      "2 0\n",
      "2 1\n",
      "2 2\n",
      "2 3\n",
      "2 4\n",
      "2 5\n",
      "2 6\n",
      "2 7\n",
      "2 8\n",
      "2 9\n",
      "3 0\n",
      "3 1\n",
      "3 2\n",
      "3 3\n",
      "3 4\n",
      "3 5\n",
      "3 6\n",
      "3 7\n",
      "3 8\n",
      "3 9\n",
      "4 0\n",
      "4 1\n",
      "4 2\n",
      "4 3\n",
      "4 4\n",
      "4 5\n",
      "4 6\n",
      "4 7\n",
      "4 8\n",
      "4 9\n",
      "5 0\n",
      "5 1\n",
      "5 2\n",
      "5 3\n",
      "5 4\n",
      "5 5\n",
      "5 6\n",
      "5 7\n",
      "5 8\n",
      "5 9\n",
      "6 0\n",
      "6 1\n",
      "6 2\n",
      "6 3\n",
      "6 4\n",
      "6 5\n",
      "6 6\n",
      "6 7\n",
      "6 8\n",
      "6 9\n",
      "7 0\n",
      "7 1\n",
      "7 2\n",
      "7 3\n",
      "7 4\n",
      "7 5\n",
      "7 6\n",
      "7 7\n",
      "7 8\n",
      "7 9\n",
      "8 0\n",
      "8 1\n",
      "8 2\n",
      "8 3\n",
      "8 4\n",
      "8 5\n",
      "8 6\n",
      "8 7\n",
      "8 8\n",
      "8 9\n",
      "9 0\n",
      "9 1\n",
      "9 2\n",
      "9 3\n",
      "9 4\n",
      "9 5\n",
      "9 6\n",
      "9 7\n",
      "9 8\n",
      "9 9\n"
     ]
    }
   ],
   "source": [
    "def print_items(n):\n",
    "    for i in range(n):\n",
    "        for j in range(n):\n",
    "            print(i,j)\n",
    "print_items(10)"
   ]
  },
  {
   "cell_type": "code",
   "execution_count": 9,
   "id": "c150003d-55c1-4e67-acc8-c29a02eeef54",
   "metadata": {},
   "outputs": [
    {
     "name": "stdout",
     "output_type": "stream",
     "text": [
      "0 0\n",
      "0 1\n",
      "0 2\n",
      "0 3\n",
      "0 4\n",
      "0 5\n",
      "0 6\n",
      "0 7\n",
      "0 8\n",
      "0 9\n",
      "1 0\n",
      "1 1\n",
      "1 2\n",
      "1 3\n",
      "1 4\n",
      "1 5\n",
      "1 6\n",
      "1 7\n",
      "1 8\n",
      "1 9\n",
      "2 0\n",
      "2 1\n",
      "2 2\n",
      "2 3\n",
      "2 4\n",
      "2 5\n",
      "2 6\n",
      "2 7\n",
      "2 8\n",
      "2 9\n",
      "3 0\n",
      "3 1\n",
      "3 2\n",
      "3 3\n",
      "3 4\n",
      "3 5\n",
      "3 6\n",
      "3 7\n",
      "3 8\n",
      "3 9\n",
      "4 0\n",
      "4 1\n",
      "4 2\n",
      "4 3\n",
      "4 4\n",
      "4 5\n",
      "4 6\n",
      "4 7\n",
      "4 8\n",
      "4 9\n",
      "5 0\n",
      "5 1\n",
      "5 2\n",
      "5 3\n",
      "5 4\n",
      "5 5\n",
      "5 6\n",
      "5 7\n",
      "5 8\n",
      "5 9\n",
      "6 0\n",
      "6 1\n",
      "6 2\n",
      "6 3\n",
      "6 4\n",
      "6 5\n",
      "6 6\n",
      "6 7\n",
      "6 8\n",
      "6 9\n",
      "7 0\n",
      "7 1\n",
      "7 2\n",
      "7 3\n",
      "7 4\n",
      "7 5\n",
      "7 6\n",
      "7 7\n",
      "7 8\n",
      "7 9\n",
      "8 0\n",
      "8 1\n",
      "8 2\n",
      "8 3\n",
      "8 4\n",
      "8 5\n",
      "8 6\n",
      "8 7\n",
      "8 8\n",
      "8 9\n",
      "9 0\n",
      "9 1\n",
      "9 2\n",
      "9 3\n",
      "9 4\n",
      "9 5\n",
      "9 6\n",
      "9 7\n",
      "9 8\n",
      "9 9\n",
      "0\n",
      "1\n",
      "2\n",
      "3\n",
      "4\n",
      "5\n",
      "6\n",
      "7\n",
      "8\n",
      "9\n"
     ]
    }
   ],
   "source": [
    "def print_items(n):\n",
    "    for i in range(n):\n",
    "        for j in range(n):\n",
    "            print(i,j)\n",
    "    for k in range(n):\n",
    "        print(k)\n",
    "print_items(10)"
   ]
  },
  {
   "cell_type": "code",
   "execution_count": 10,
   "id": "cb9417b3-6940-4820-a111-d0e14e9b5b50",
   "metadata": {},
   "outputs": [
    {
     "data": {
      "text/plain": [
       "2"
      ]
     },
     "execution_count": 10,
     "metadata": {},
     "output_type": "execute_result"
    }
   ],
   "source": [
    "def add_items(n):\n",
    "    return n+n\n",
    "add_items(1)"
   ]
  },
  {
   "cell_type": "code",
   "execution_count": 12,
   "id": "bcd77f63-6449-4219-b2be-8656c907fc36",
   "metadata": {},
   "outputs": [
    {
     "name": "stdout",
     "output_type": "stream",
     "text": [
      "0\n",
      "1\n",
      "2\n",
      "3\n",
      "4\n",
      "0\n",
      "1\n",
      "2\n",
      "3\n",
      "4\n",
      "5\n"
     ]
    }
   ],
   "source": [
    "def print_items(a,b):\n",
    "    for i in range(a):\n",
    "        print(i)\n",
    "    for j in range(b):\n",
    "        print(j)\n",
    "print_items(5,6)"
   ]
  },
  {
   "cell_type": "code",
   "execution_count": 13,
   "id": "a6592c0e-0314-4d22-931f-38f0adeb5b85",
   "metadata": {},
   "outputs": [
    {
     "name": "stdout",
     "output_type": "stream",
     "text": [
      "0 0\n",
      "0 1\n",
      "0 2\n",
      "0 3\n",
      "0 4\n",
      "0 5\n",
      "1 0\n",
      "1 1\n",
      "1 2\n",
      "1 3\n",
      "1 4\n",
      "1 5\n",
      "2 0\n",
      "2 1\n",
      "2 2\n",
      "2 3\n",
      "2 4\n",
      "2 5\n",
      "3 0\n",
      "3 1\n",
      "3 2\n",
      "3 3\n",
      "3 4\n",
      "3 5\n",
      "4 0\n",
      "4 1\n",
      "4 2\n",
      "4 3\n",
      "4 4\n",
      "4 5\n"
     ]
    }
   ],
   "source": [
    "def print_items(a,b):\n",
    "    for i in range(a):\n",
    "        for j in range(b):\n",
    "            print(i,j)\n",
    "print_items(5,6)"
   ]
  },
  {
   "cell_type": "code",
   "execution_count": 19,
   "id": "99393e4b-6bb9-444f-86d5-9207c77fc06b",
   "metadata": {},
   "outputs": [
    {
     "name": "stdout",
     "output_type": "stream",
     "text": [
      "1 1\n",
      "1 2\n",
      "1 3\n",
      "1 4\n",
      "1 5\n",
      "2 1\n",
      "2 2\n",
      "2 3\n",
      "2 4\n",
      "2 5\n",
      "3 1\n",
      "3 2\n",
      "3 3\n",
      "3 4\n",
      "3 5\n",
      "4 1\n",
      "4 2\n",
      "4 3\n",
      "4 4\n",
      "4 5\n",
      "5 1\n",
      "5 2\n",
      "5 3\n",
      "5 4\n",
      "5 5\n"
     ]
    }
   ],
   "source": [
    "my_items=[1,2,3,4,5]\n",
    "for i in my_items:\n",
    "    for j in my_items:\n",
    "        print(i,j)\n"
   ]
  },
  {
   "cell_type": "code",
   "execution_count": 22,
   "id": "24252789-5a13-417f-be1f-d738a2a0783b",
   "metadata": {},
   "outputs": [
    {
     "name": "stdout",
     "output_type": "stream",
     "text": [
      "cookie one is  green\n",
      "cookie two is  blue\n"
     ]
    }
   ],
   "source": [
    "class cookie:\n",
    "    def __init__(self,color):\n",
    "        self.color=color\n",
    "    def get_color(self):\n",
    "        return self.color\n",
    "cookie_1=cookie('green')\n",
    "cookie_2=cookie('blue')\n",
    "print(\"cookie one is \",cookie_1.get_color())\n",
    "print(\"cookie two is \",cookie_2.get_color())"
   ]
  },
  {
   "cell_type": "code",
   "execution_count": 24,
   "id": "035ede7e-8db2-48cb-8c62-e7709dfff060",
   "metadata": {},
   "outputs": [
    {
     "name": "stdout",
     "output_type": "stream",
     "text": [
      "Before the num 2 value is updates\n",
      "num 1 is =  11\n",
      "num 2 is =  11\n",
      "\n",
      "num 1 points to   140729494874872\n",
      "num 2 points to =  140729494874872\n"
     ]
    }
   ],
   "source": [
    "num1=11\n",
    "num2=num1\n",
    "print(\"Before the num 2 value is updates\")\n",
    "print(\"num 1 is = \",num1)\n",
    "print(\"num 2 is = \",num2)\n",
    "print(\"\\nnum 1 points to  \",id(num1))\n",
    "print(\"num 2 points to = \",id(num2))\n"
   ]
  },
  {
   "cell_type": "code",
   "execution_count": 28,
   "id": "172bfd99-5730-44ce-bb67-80973a8ba768",
   "metadata": {},
   "outputs": [
    {
     "name": "stdout",
     "output_type": "stream",
     "text": [
      "Before the num 2 value is updates\n",
      "num 1 is =  11\n",
      "num 2 is =  11\n",
      "\n",
      "num 1 points to   140729494874872\n",
      "num 2 points to =  140729494874872\n",
      "after the num 2 value is updates\n",
      "num 1 is =  11\n",
      "num 2 is =  22\n",
      "\n",
      "num 1 points to   140729494874872\n",
      "num 2 points to =  140729494875224\n"
     ]
    }
   ],
   "source": [
    "num1=11\n",
    "num2=num1\n",
    "print(\"Before the num 2 value is updates\")\n",
    "print(\"num 1 is = \",num1)\n",
    "print(\"num 2 is = \",num2)\n",
    "print(\"\\nnum 1 points to  \",id(num1))\n",
    "print(\"num 2 points to = \",id(num2))\n",
    "num2=22\n",
    "print(\"after the num 2 value is updates\")\n",
    "print(\"num 1 is = \",num1)\n",
    "print(\"num 2 is = \",num2)\n",
    "print(\"\\nnum 1 points to  \",id(num1))\n",
    "print(\"num 2 points to = \",id(num2))\n"
   ]
  },
  {
   "cell_type": "code",
   "execution_count": null,
   "id": "7f0ef44c-c9f2-4006-ab51-b89b155697f2",
   "metadata": {},
   "outputs": [],
   "source": []
  }
 ],
 "metadata": {
  "kernelspec": {
   "display_name": "Python 3 (ipykernel)",
   "language": "python",
   "name": "python3"
  },
  "language_info": {
   "codemirror_mode": {
    "name": "ipython",
    "version": 3
   },
   "file_extension": ".py",
   "mimetype": "text/x-python",
   "name": "python",
   "nbconvert_exporter": "python",
   "pygments_lexer": "ipython3",
   "version": "3.12.7"
  }
 },
 "nbformat": 4,
 "nbformat_minor": 5
}
